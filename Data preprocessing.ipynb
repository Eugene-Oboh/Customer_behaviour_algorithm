{
 "cells": [
  {
   "cell_type": "markdown",
   "id": "a7bb19b0",
   "metadata": {},
   "source": [
    "## Import important libraries"
   ]
  },
  {
   "cell_type": "code",
   "execution_count": 1,
   "id": "0581ae67",
   "metadata": {},
   "outputs": [],
   "source": [
    "import numpy as np\n",
    "from sklearn import preprocessing\n",
    "import tensorflow as tf\n",
    "import matplotlib.pyplot as plt\n",
    "import pandas as pd"
   ]
  },
  {
   "cell_type": "markdown",
   "id": "1145dc4e",
   "metadata": {},
   "source": [
    "## Load raw data"
   ]
  },
  {
   "cell_type": "code",
   "execution_count": 2,
   "id": "0deb96e8",
   "metadata": {},
   "outputs": [],
   "source": [
    "raw_data = np.loadtxt('Audiobooks_data.csv', delimiter =',')\n",
    "#exclude first colum(customer id) and last column(target)\n",
    "inputs = raw_data[:,1:-1]\n",
    "#extract the target in a separate variable\n",
    "targets = raw_data[:,-1]"
   ]
  },
  {
   "cell_type": "markdown",
   "id": "1ed9808e",
   "metadata": {},
   "source": [
    "## Balance the dataset "
   ]
  },
  {
   "cell_type": "code",
   "execution_count": 3,
   "id": "cbff463b",
   "metadata": {},
   "outputs": [
    {
     "name": "stdout",
     "output_type": "stream",
     "text": [
      "Priors are equal\n"
     ]
    }
   ],
   "source": [
    "num_one_targets = int(np.sum(targets)) #counts the number of ones \n",
    "num_zero_targets = 0\n",
    "indices_to_delete = []\n",
    "\n",
    "#iterate over the vector of ones and zeros, \n",
    "for i in range(targets.shape[0]):\n",
    "    if targets[i] == 0:\n",
    "        num_zero_targets += 1\n",
    "        if num_zero_targets > num_one_targets:   \n",
    "            indices_to_delete.append(i)\n",
    "        \n",
    "input_equal_priors = np.delete(inputs,indices_to_delete, axis =0 )\n",
    "targets_equal_priors = np.delete(targets, indices_to_delete, axis = 0)\n",
    "\n",
    "#Check\n",
    "if num_zero_targets - len(indices_to_delete) == num_one_targets:\n",
    "    print ('Priors are equal')\n",
    "else:\n",
    "    print('Priors are not equal')"
   ]
  },
  {
   "cell_type": "markdown",
   "id": "cb074fdc",
   "metadata": {},
   "source": [
    "## Standerdize the inputs"
   ]
  },
  {
   "cell_type": "code",
   "execution_count": 4,
   "id": "deffacc5",
   "metadata": {},
   "outputs": [],
   "source": [
    "scaled_inputs = preprocessing.scale(input_equal_priors)\n",
    "#standadization greatly improves the algorithm"
   ]
  },
  {
   "cell_type": "markdown",
   "id": "9759ef45",
   "metadata": {},
   "source": [
    "## Shuffle the data"
   ]
  },
  {
   "cell_type": "code",
   "execution_count": 5,
   "id": "30c66218",
   "metadata": {},
   "outputs": [],
   "source": [
    "#shuffling makes the data more random, also improves batching\n",
    "shuffled_indices = np.arange(scaled_inputs.shape[0])\n",
    "np.random.shuffle(shuffled_indices)\n",
    "\n",
    "shuffled_inputs = scaled_inputs[shuffled_indices]\n",
    "shuffled_targets = targets_equal_priors[shuffled_indices]"
   ]
  },
  {
   "cell_type": "markdown",
   "id": "17a49217",
   "metadata": {},
   "source": [
    "## Split data into train, validate and test datasets"
   ]
  },
  {
   "cell_type": "code",
   "execution_count": 6,
   "id": "d65c50ed",
   "metadata": {},
   "outputs": [
    {
     "name": "stdout",
     "output_type": "stream",
     "text": [
      "1808.0 3579 0.5051690416317407\n",
      "207.0 447 0.46308724832214765\n",
      "222.0 448 0.4955357142857143\n"
     ]
    }
   ],
   "source": [
    "#define the sizes of the datasets\n",
    "data_count = shuffled_inputs.shape[0]\n",
    "train_samples_count = int(0.8 * data_count)\n",
    "validation_samples_count = int(0.1 * data_count)\n",
    "test_samples_count = data_count - train_samples_count - validation_samples_count\n",
    "\n",
    "#extract the TVT datasets from the main dataset \n",
    "train_inputs = shuffled_inputs[:train_samples_count]\n",
    "train_targets = shuffled_targets[:train_samples_count]\n",
    "\n",
    "validation_inputs = shuffled_inputs[train_samples_count:train_samples_count + validation_samples_count]\n",
    "validation_targets = shuffled_targets[train_samples_count:train_samples_count + validation_samples_count]\n",
    "\n",
    "test_inputs = shuffled_inputs[train_samples_count+validation_samples_count:]\n",
    "test_targets = shuffled_targets[train_samples_count+validation_samples_count:]\n",
    "\n",
    "#Checking out sum of samples, no. of observations and Priors to make sure the datasets are balanced\n",
    "print(np.sum(train_targets), train_samples_count, np.sum(train_targets)/ train_samples_count)\n",
    "print(np.sum(validation_targets), validation_samples_count, np.sum(validation_targets)/ validation_samples_count)\n",
    "print(np.sum(test_targets), test_samples_count, np.sum(test_targets)/ test_samples_count)"
   ]
  },
  {
   "cell_type": "markdown",
   "id": "85f3bccf",
   "metadata": {},
   "source": [
    "## Save datasets"
   ]
  },
  {
   "cell_type": "code",
   "execution_count": 7,
   "id": "07b65d1e",
   "metadata": {},
   "outputs": [],
   "source": [
    "np.savez('audiobook_data_train', inputs=train_inputs, targets = train_targets   )\n",
    "np.savez('audiobook_data_validation', inputs=validation_inputs, targets = validation_targets)\n",
    "np.savez('audiobook_data_test', inputs=test_inputs, targets = test_targets   )"
   ]
  },
  {
   "cell_type": "code",
   "execution_count": null,
   "id": "d5fbc18f",
   "metadata": {},
   "outputs": [],
   "source": []
  }
 ],
 "metadata": {
  "kernelspec": {
   "display_name": "Python 3 (ipykernel)",
   "language": "python",
   "name": "python3"
  },
  "language_info": {
   "codemirror_mode": {
    "name": "ipython",
    "version": 3
   },
   "file_extension": ".py",
   "mimetype": "text/x-python",
   "name": "python",
   "nbconvert_exporter": "python",
   "pygments_lexer": "ipython3",
   "version": "3.10.9"
  }
 },
 "nbformat": 4,
 "nbformat_minor": 5
}
